{
 "cells": [
  {
   "metadata": {},
   "cell_type": "code",
   "outputs": [],
   "execution_count": null,
   "source": [
    "\n",
    "df <- read.csv('./data/housing.csv')"
   ],
   "id": "c58592a320a94478"
  },
  {
   "metadata": {
    "ExecuteTime": {
     "end_time": "2025-01-27T23:22:10.020578862Z",
     "start_time": "2025-01-27T19:30:32.757172Z"
    }
   },
   "cell_type": "code",
   "source": "library(tidymodels)\n",
   "id": "d3f89eca59176bc1",
   "outputs": [
    {
     "name": "stderr",
     "output_type": "stream",
     "text": [
      "── \u001B[1mAttaching packages\u001B[22m ────────────────────────────────────── tidymodels 1.2.0 ──\n",
      "\n",
      "\u001B[32m✔\u001B[39m \u001B[34mbroom       \u001B[39m 1.0.7     \u001B[32m✔\u001B[39m \u001B[34mrecipes     \u001B[39m 1.1.0\n",
      "\u001B[32m✔\u001B[39m \u001B[34mdials       \u001B[39m 1.3.0     \u001B[32m✔\u001B[39m \u001B[34mrsample     \u001B[39m 1.2.1\n",
      "\u001B[32m✔\u001B[39m \u001B[34mdplyr       \u001B[39m 1.1.4     \u001B[32m✔\u001B[39m \u001B[34mtibble      \u001B[39m 3.2.1\n",
      "\u001B[32m✔\u001B[39m \u001B[34mggplot2     \u001B[39m 3.5.1     \u001B[32m✔\u001B[39m \u001B[34mtidyr       \u001B[39m 1.3.1\n",
      "\u001B[32m✔\u001B[39m \u001B[34minfer       \u001B[39m 1.0.7     \u001B[32m✔\u001B[39m \u001B[34mtune        \u001B[39m 1.2.1\n",
      "\u001B[32m✔\u001B[39m \u001B[34mmodeldata   \u001B[39m 1.4.0     \u001B[32m✔\u001B[39m \u001B[34mworkflows   \u001B[39m 1.1.4\n",
      "\u001B[32m✔\u001B[39m \u001B[34mparsnip     \u001B[39m 1.2.1     \u001B[32m✔\u001B[39m \u001B[34mworkflowsets\u001B[39m 1.1.0\n",
      "\u001B[32m✔\u001B[39m \u001B[34mpurrr       \u001B[39m 1.0.2     \u001B[32m✔\u001B[39m \u001B[34myardstick   \u001B[39m 1.3.1\n",
      "\n",
      "── \u001B[1mConflicts\u001B[22m ───────────────────────────────────────── tidymodels_conflicts() ──\n",
      "\u001B[31m✖\u001B[39m \u001B[34mpurrr\u001B[39m::\u001B[32mdiscard()\u001B[39m masks \u001B[34mscales\u001B[39m::discard()\n",
      "\u001B[31m✖\u001B[39m \u001B[34mdplyr\u001B[39m::\u001B[32mfilter()\u001B[39m  masks \u001B[34mstats\u001B[39m::filter()\n",
      "\u001B[31m✖\u001B[39m \u001B[34mdplyr\u001B[39m::\u001B[32mlag()\u001B[39m     masks \u001B[34mstats\u001B[39m::lag()\n",
      "\u001B[31m✖\u001B[39m \u001B[34mrecipes\u001B[39m::\u001B[32mstep()\u001B[39m  masks \u001B[34mstats\u001B[39m::step()\n",
      "\u001B[34m•\u001B[39m Dig deeper into tidy modeling with R at \u001B[32mhttps://www.tmwr.org\u001B[39m\n",
      "\n"
     ]
    }
   ],
   "execution_count": 2
  }
 ],
 "metadata": {
  "kernelspec": {
   "display_name": "R",
   "language": "R",
   "name": "ir"
  },
  "language_info": {
   "codemirror_mode": {
    "name": "ipython",
    "version": 2
   },
   "file_extension": ".py",
   "mimetype": "text/x-python",
   "name": "python",
   "nbconvert_exporter": "python",
   "pygments_lexer": "ipython2",
   "version": "2.7.6"
  }
 },
 "nbformat": 4,
 "nbformat_minor": 5
}
